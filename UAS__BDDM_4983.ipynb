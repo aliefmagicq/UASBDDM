{
  "nbformat": 4,
  "nbformat_minor": 0,
  "metadata": {
    "colab": {
      "provenance": []
    },
    "kernelspec": {
      "name": "python3",
      "display_name": "Python 3"
    },
    "language_info": {
      "name": "python"
    }
  },
  "cells": [
    {
      "cell_type": "markdown",
      "source": [
        "# **Analisis hubungan antara harga game dan rentang jumlah pemilik menggunakan Algoritma Random forest dengan tuning RandomizedSearchCv**\n",
        "\n",
        "Nama: Alief Khairul Fadzli\n",
        "\n",
        "Nim: 22.11.4983\n",
        "\n",
        "https://www.kaggle.com/datasets/nikdavis/steam-store-games\n",
        "\n"
      ],
      "metadata": {
        "id": "Mayph_7VHKOf"
      }
    },
    {
      "cell_type": "markdown",
      "source": [
        "# **LOAD DATASET**"
      ],
      "metadata": {
        "id": "wfNOz1quECCp"
      }
    },
    {
      "cell_type": "code",
      "source": [
        "import pandas as pd\n",
        "\n",
        "file_path = '/content/drive/MyDrive/Colab Notebooks/BigData & Data Maining Sem 5/UAS/steam.csv'\n",
        "steam_data = pd.read_csv(file_path)\n",
        "\n",
        "print(\"Info Dataset:\")\n",
        "print(steam_data.info())\n",
        "print(\"\\nPreview Data:\")\n",
        "print(steam_data.head())\n"
      ],
      "metadata": {
        "colab": {
          "base_uri": "https://localhost:8080/"
        },
        "id": "KzEiQJvcdfNh",
        "outputId": "65416934-f399-4e08-d2dc-8a7caeed5fb1"
      },
      "execution_count": 3,
      "outputs": [
        {
          "output_type": "stream",
          "name": "stdout",
          "text": [
            "Info Dataset:\n",
            "<class 'pandas.core.frame.DataFrame'>\n",
            "RangeIndex: 27075 entries, 0 to 27074\n",
            "Data columns (total 18 columns):\n",
            " #   Column            Non-Null Count  Dtype  \n",
            "---  ------            --------------  -----  \n",
            " 0   appid             27075 non-null  int64  \n",
            " 1   name              27075 non-null  object \n",
            " 2   release_date      27075 non-null  object \n",
            " 3   english           27075 non-null  int64  \n",
            " 4   developer         27074 non-null  object \n",
            " 5   publisher         27061 non-null  object \n",
            " 6   platforms         27075 non-null  object \n",
            " 7   required_age      27075 non-null  int64  \n",
            " 8   categories        27075 non-null  object \n",
            " 9   genres            27075 non-null  object \n",
            " 10  steamspy_tags     27075 non-null  object \n",
            " 11  achievements      27075 non-null  int64  \n",
            " 12  positive_ratings  27075 non-null  int64  \n",
            " 13  negative_ratings  27075 non-null  int64  \n",
            " 14  average_playtime  27075 non-null  int64  \n",
            " 15  median_playtime   27075 non-null  int64  \n",
            " 16  owners            27075 non-null  object \n",
            " 17  price             27075 non-null  float64\n",
            "dtypes: float64(1), int64(8), object(9)\n",
            "memory usage: 3.7+ MB\n",
            "None\n",
            "\n",
            "Preview Data:\n",
            "   appid                       name release_date  english         developer  \\\n",
            "0     10             Counter-Strike   2000-11-01        1             Valve   \n",
            "1     20      Team Fortress Classic   1999-04-01        1             Valve   \n",
            "2     30              Day of Defeat   2003-05-01        1             Valve   \n",
            "3     40         Deathmatch Classic   2001-06-01        1             Valve   \n",
            "4     50  Half-Life: Opposing Force   1999-11-01        1  Gearbox Software   \n",
            "\n",
            "  publisher          platforms  required_age  \\\n",
            "0     Valve  windows;mac;linux             0   \n",
            "1     Valve  windows;mac;linux             0   \n",
            "2     Valve  windows;mac;linux             0   \n",
            "3     Valve  windows;mac;linux             0   \n",
            "4     Valve  windows;mac;linux             0   \n",
            "\n",
            "                                          categories  genres  \\\n",
            "0  Multi-player;Online Multi-Player;Local Multi-P...  Action   \n",
            "1  Multi-player;Online Multi-Player;Local Multi-P...  Action   \n",
            "2              Multi-player;Valve Anti-Cheat enabled  Action   \n",
            "3  Multi-player;Online Multi-Player;Local Multi-P...  Action   \n",
            "4  Single-player;Multi-player;Valve Anti-Cheat en...  Action   \n",
            "\n",
            "                  steamspy_tags  achievements  positive_ratings  \\\n",
            "0        Action;FPS;Multiplayer             0            124534   \n",
            "1        Action;FPS;Multiplayer             0              3318   \n",
            "2  FPS;World War II;Multiplayer             0              3416   \n",
            "3        Action;FPS;Multiplayer             0              1273   \n",
            "4             FPS;Action;Sci-fi             0              5250   \n",
            "\n",
            "   negative_ratings  average_playtime  median_playtime             owners  \\\n",
            "0              3339             17612              317  10000000-20000000   \n",
            "1               633               277               62   5000000-10000000   \n",
            "2               398               187               34   5000000-10000000   \n",
            "3               267               258              184   5000000-10000000   \n",
            "4               288               624              415   5000000-10000000   \n",
            "\n",
            "   price  \n",
            "0   7.19  \n",
            "1   3.99  \n",
            "2   3.99  \n",
            "3   3.99  \n",
            "4   3.99  \n"
          ]
        }
      ]
    },
    {
      "cell_type": "code",
      "source": [
        "import pandas as pd\n",
        "file_path = '/content/drive/MyDrive/Colab Notebooks/BigData & Data Maining Sem 5/UAS/steam.csv'\n",
        "steam_data = pd.read_csv(file_path)\n",
        "display(steam_data)"
      ],
      "metadata": {
        "colab": {
          "base_uri": "https://localhost:8080/",
          "height": 965
        },
        "id": "p8ZxIB5oMekD",
        "outputId": "8dc93eaa-210c-4ae6-a513-bfb3dc332565"
      },
      "execution_count": 4,
      "outputs": [
        {
          "output_type": "display_data",
          "data": {
            "text/plain": [
              "         appid                        name release_date  english  \\\n",
              "0           10              Counter-Strike   2000-11-01        1   \n",
              "1           20       Team Fortress Classic   1999-04-01        1   \n",
              "2           30               Day of Defeat   2003-05-01        1   \n",
              "3           40          Deathmatch Classic   2001-06-01        1   \n",
              "4           50   Half-Life: Opposing Force   1999-11-01        1   \n",
              "...        ...                         ...          ...      ...   \n",
              "27070  1065230             Room of Pandora   2019-04-24        1   \n",
              "27071  1065570                   Cyber Gun   2019-04-23        1   \n",
              "27072  1065650            Super Star Blast   2019-04-24        1   \n",
              "27073  1066700  New Yankee 7: Deer Hunters   2019-04-17        1   \n",
              "27074  1069460                   Rune Lord   2019-04-24        1   \n",
              "\n",
              "                developer             publisher          platforms  \\\n",
              "0                   Valve                 Valve  windows;mac;linux   \n",
              "1                   Valve                 Valve  windows;mac;linux   \n",
              "2                   Valve                 Valve  windows;mac;linux   \n",
              "3                   Valve                 Valve  windows;mac;linux   \n",
              "4        Gearbox Software                 Valve  windows;mac;linux   \n",
              "...                   ...                   ...                ...   \n",
              "27070         SHEN JIAWEI           SHEN JIAWEI            windows   \n",
              "27071      Semyon Maximov      BekkerDev Studio            windows   \n",
              "27072         EntwicklerX           EntwicklerX            windows   \n",
              "27073  Yustas Game Studio  Alawar Entertainment        windows;mac   \n",
              "27074    Adept Studios GD  Alawar Entertainment        windows;mac   \n",
              "\n",
              "       required_age                                         categories  \\\n",
              "0                 0  Multi-player;Online Multi-Player;Local Multi-P...   \n",
              "1                 0  Multi-player;Online Multi-Player;Local Multi-P...   \n",
              "2                 0              Multi-player;Valve Anti-Cheat enabled   \n",
              "3                 0  Multi-player;Online Multi-Player;Local Multi-P...   \n",
              "4                 0  Single-player;Multi-player;Valve Anti-Cheat en...   \n",
              "...             ...                                                ...   \n",
              "27070             0                   Single-player;Steam Achievements   \n",
              "27071             0                                      Single-player   \n",
              "27072             0  Single-player;Multi-player;Co-op;Shared/Split ...   \n",
              "27073             0                          Single-player;Steam Cloud   \n",
              "27074             0                          Single-player;Steam Cloud   \n",
              "\n",
              "                       genres                 steamspy_tags  achievements  \\\n",
              "0                      Action        Action;FPS;Multiplayer             0   \n",
              "1                      Action        Action;FPS;Multiplayer             0   \n",
              "2                      Action  FPS;World War II;Multiplayer             0   \n",
              "3                      Action        Action;FPS;Multiplayer             0   \n",
              "4                      Action             FPS;Action;Sci-fi             0   \n",
              "...                       ...                           ...           ...   \n",
              "27070  Adventure;Casual;Indie        Adventure;Indie;Casual             7   \n",
              "27071  Action;Adventure;Indie        Action;Indie;Adventure             0   \n",
              "27072     Action;Casual;Indie           Action;Indie;Casual            24   \n",
              "27073  Adventure;Casual;Indie        Indie;Casual;Adventure             0   \n",
              "27074  Adventure;Casual;Indie        Indie;Casual;Adventure             0   \n",
              "\n",
              "       positive_ratings  negative_ratings  average_playtime  median_playtime  \\\n",
              "0                124534              3339             17612              317   \n",
              "1                  3318               633               277               62   \n",
              "2                  3416               398               187               34   \n",
              "3                  1273               267               258              184   \n",
              "4                  5250               288               624              415   \n",
              "...                 ...               ...               ...              ...   \n",
              "27070                 3                 0                 0                0   \n",
              "27071                 8                 1                 0                0   \n",
              "27072                 0                 1                 0                0   \n",
              "27073                 2                 0                 0                0   \n",
              "27074                 4                 0                 0                0   \n",
              "\n",
              "                  owners  price  \n",
              "0      10000000-20000000   7.19  \n",
              "1       5000000-10000000   3.99  \n",
              "2       5000000-10000000   3.99  \n",
              "3       5000000-10000000   3.99  \n",
              "4       5000000-10000000   3.99  \n",
              "...                  ...    ...  \n",
              "27070            0-20000   2.09  \n",
              "27071            0-20000   1.69  \n",
              "27072            0-20000   3.99  \n",
              "27073            0-20000   5.19  \n",
              "27074            0-20000   5.19  \n",
              "\n",
              "[27075 rows x 18 columns]"
            ],
            "text/html": [
              "\n",
              "  <div id=\"df-7695830e-965b-4366-8250-905b3fa588c0\" class=\"colab-df-container\">\n",
              "    <div>\n",
              "<style scoped>\n",
              "    .dataframe tbody tr th:only-of-type {\n",
              "        vertical-align: middle;\n",
              "    }\n",
              "\n",
              "    .dataframe tbody tr th {\n",
              "        vertical-align: top;\n",
              "    }\n",
              "\n",
              "    .dataframe thead th {\n",
              "        text-align: right;\n",
              "    }\n",
              "</style>\n",
              "<table border=\"1\" class=\"dataframe\">\n",
              "  <thead>\n",
              "    <tr style=\"text-align: right;\">\n",
              "      <th></th>\n",
              "      <th>appid</th>\n",
              "      <th>name</th>\n",
              "      <th>release_date</th>\n",
              "      <th>english</th>\n",
              "      <th>developer</th>\n",
              "      <th>publisher</th>\n",
              "      <th>platforms</th>\n",
              "      <th>required_age</th>\n",
              "      <th>categories</th>\n",
              "      <th>genres</th>\n",
              "      <th>steamspy_tags</th>\n",
              "      <th>achievements</th>\n",
              "      <th>positive_ratings</th>\n",
              "      <th>negative_ratings</th>\n",
              "      <th>average_playtime</th>\n",
              "      <th>median_playtime</th>\n",
              "      <th>owners</th>\n",
              "      <th>price</th>\n",
              "    </tr>\n",
              "  </thead>\n",
              "  <tbody>\n",
              "    <tr>\n",
              "      <th>0</th>\n",
              "      <td>10</td>\n",
              "      <td>Counter-Strike</td>\n",
              "      <td>2000-11-01</td>\n",
              "      <td>1</td>\n",
              "      <td>Valve</td>\n",
              "      <td>Valve</td>\n",
              "      <td>windows;mac;linux</td>\n",
              "      <td>0</td>\n",
              "      <td>Multi-player;Online Multi-Player;Local Multi-P...</td>\n",
              "      <td>Action</td>\n",
              "      <td>Action;FPS;Multiplayer</td>\n",
              "      <td>0</td>\n",
              "      <td>124534</td>\n",
              "      <td>3339</td>\n",
              "      <td>17612</td>\n",
              "      <td>317</td>\n",
              "      <td>10000000-20000000</td>\n",
              "      <td>7.19</td>\n",
              "    </tr>\n",
              "    <tr>\n",
              "      <th>1</th>\n",
              "      <td>20</td>\n",
              "      <td>Team Fortress Classic</td>\n",
              "      <td>1999-04-01</td>\n",
              "      <td>1</td>\n",
              "      <td>Valve</td>\n",
              "      <td>Valve</td>\n",
              "      <td>windows;mac;linux</td>\n",
              "      <td>0</td>\n",
              "      <td>Multi-player;Online Multi-Player;Local Multi-P...</td>\n",
              "      <td>Action</td>\n",
              "      <td>Action;FPS;Multiplayer</td>\n",
              "      <td>0</td>\n",
              "      <td>3318</td>\n",
              "      <td>633</td>\n",
              "      <td>277</td>\n",
              "      <td>62</td>\n",
              "      <td>5000000-10000000</td>\n",
              "      <td>3.99</td>\n",
              "    </tr>\n",
              "    <tr>\n",
              "      <th>2</th>\n",
              "      <td>30</td>\n",
              "      <td>Day of Defeat</td>\n",
              "      <td>2003-05-01</td>\n",
              "      <td>1</td>\n",
              "      <td>Valve</td>\n",
              "      <td>Valve</td>\n",
              "      <td>windows;mac;linux</td>\n",
              "      <td>0</td>\n",
              "      <td>Multi-player;Valve Anti-Cheat enabled</td>\n",
              "      <td>Action</td>\n",
              "      <td>FPS;World War II;Multiplayer</td>\n",
              "      <td>0</td>\n",
              "      <td>3416</td>\n",
              "      <td>398</td>\n",
              "      <td>187</td>\n",
              "      <td>34</td>\n",
              "      <td>5000000-10000000</td>\n",
              "      <td>3.99</td>\n",
              "    </tr>\n",
              "    <tr>\n",
              "      <th>3</th>\n",
              "      <td>40</td>\n",
              "      <td>Deathmatch Classic</td>\n",
              "      <td>2001-06-01</td>\n",
              "      <td>1</td>\n",
              "      <td>Valve</td>\n",
              "      <td>Valve</td>\n",
              "      <td>windows;mac;linux</td>\n",
              "      <td>0</td>\n",
              "      <td>Multi-player;Online Multi-Player;Local Multi-P...</td>\n",
              "      <td>Action</td>\n",
              "      <td>Action;FPS;Multiplayer</td>\n",
              "      <td>0</td>\n",
              "      <td>1273</td>\n",
              "      <td>267</td>\n",
              "      <td>258</td>\n",
              "      <td>184</td>\n",
              "      <td>5000000-10000000</td>\n",
              "      <td>3.99</td>\n",
              "    </tr>\n",
              "    <tr>\n",
              "      <th>4</th>\n",
              "      <td>50</td>\n",
              "      <td>Half-Life: Opposing Force</td>\n",
              "      <td>1999-11-01</td>\n",
              "      <td>1</td>\n",
              "      <td>Gearbox Software</td>\n",
              "      <td>Valve</td>\n",
              "      <td>windows;mac;linux</td>\n",
              "      <td>0</td>\n",
              "      <td>Single-player;Multi-player;Valve Anti-Cheat en...</td>\n",
              "      <td>Action</td>\n",
              "      <td>FPS;Action;Sci-fi</td>\n",
              "      <td>0</td>\n",
              "      <td>5250</td>\n",
              "      <td>288</td>\n",
              "      <td>624</td>\n",
              "      <td>415</td>\n",
              "      <td>5000000-10000000</td>\n",
              "      <td>3.99</td>\n",
              "    </tr>\n",
              "    <tr>\n",
              "      <th>...</th>\n",
              "      <td>...</td>\n",
              "      <td>...</td>\n",
              "      <td>...</td>\n",
              "      <td>...</td>\n",
              "      <td>...</td>\n",
              "      <td>...</td>\n",
              "      <td>...</td>\n",
              "      <td>...</td>\n",
              "      <td>...</td>\n",
              "      <td>...</td>\n",
              "      <td>...</td>\n",
              "      <td>...</td>\n",
              "      <td>...</td>\n",
              "      <td>...</td>\n",
              "      <td>...</td>\n",
              "      <td>...</td>\n",
              "      <td>...</td>\n",
              "      <td>...</td>\n",
              "    </tr>\n",
              "    <tr>\n",
              "      <th>27070</th>\n",
              "      <td>1065230</td>\n",
              "      <td>Room of Pandora</td>\n",
              "      <td>2019-04-24</td>\n",
              "      <td>1</td>\n",
              "      <td>SHEN JIAWEI</td>\n",
              "      <td>SHEN JIAWEI</td>\n",
              "      <td>windows</td>\n",
              "      <td>0</td>\n",
              "      <td>Single-player;Steam Achievements</td>\n",
              "      <td>Adventure;Casual;Indie</td>\n",
              "      <td>Adventure;Indie;Casual</td>\n",
              "      <td>7</td>\n",
              "      <td>3</td>\n",
              "      <td>0</td>\n",
              "      <td>0</td>\n",
              "      <td>0</td>\n",
              "      <td>0-20000</td>\n",
              "      <td>2.09</td>\n",
              "    </tr>\n",
              "    <tr>\n",
              "      <th>27071</th>\n",
              "      <td>1065570</td>\n",
              "      <td>Cyber Gun</td>\n",
              "      <td>2019-04-23</td>\n",
              "      <td>1</td>\n",
              "      <td>Semyon Maximov</td>\n",
              "      <td>BekkerDev Studio</td>\n",
              "      <td>windows</td>\n",
              "      <td>0</td>\n",
              "      <td>Single-player</td>\n",
              "      <td>Action;Adventure;Indie</td>\n",
              "      <td>Action;Indie;Adventure</td>\n",
              "      <td>0</td>\n",
              "      <td>8</td>\n",
              "      <td>1</td>\n",
              "      <td>0</td>\n",
              "      <td>0</td>\n",
              "      <td>0-20000</td>\n",
              "      <td>1.69</td>\n",
              "    </tr>\n",
              "    <tr>\n",
              "      <th>27072</th>\n",
              "      <td>1065650</td>\n",
              "      <td>Super Star Blast</td>\n",
              "      <td>2019-04-24</td>\n",
              "      <td>1</td>\n",
              "      <td>EntwicklerX</td>\n",
              "      <td>EntwicklerX</td>\n",
              "      <td>windows</td>\n",
              "      <td>0</td>\n",
              "      <td>Single-player;Multi-player;Co-op;Shared/Split ...</td>\n",
              "      <td>Action;Casual;Indie</td>\n",
              "      <td>Action;Indie;Casual</td>\n",
              "      <td>24</td>\n",
              "      <td>0</td>\n",
              "      <td>1</td>\n",
              "      <td>0</td>\n",
              "      <td>0</td>\n",
              "      <td>0-20000</td>\n",
              "      <td>3.99</td>\n",
              "    </tr>\n",
              "    <tr>\n",
              "      <th>27073</th>\n",
              "      <td>1066700</td>\n",
              "      <td>New Yankee 7: Deer Hunters</td>\n",
              "      <td>2019-04-17</td>\n",
              "      <td>1</td>\n",
              "      <td>Yustas Game Studio</td>\n",
              "      <td>Alawar Entertainment</td>\n",
              "      <td>windows;mac</td>\n",
              "      <td>0</td>\n",
              "      <td>Single-player;Steam Cloud</td>\n",
              "      <td>Adventure;Casual;Indie</td>\n",
              "      <td>Indie;Casual;Adventure</td>\n",
              "      <td>0</td>\n",
              "      <td>2</td>\n",
              "      <td>0</td>\n",
              "      <td>0</td>\n",
              "      <td>0</td>\n",
              "      <td>0-20000</td>\n",
              "      <td>5.19</td>\n",
              "    </tr>\n",
              "    <tr>\n",
              "      <th>27074</th>\n",
              "      <td>1069460</td>\n",
              "      <td>Rune Lord</td>\n",
              "      <td>2019-04-24</td>\n",
              "      <td>1</td>\n",
              "      <td>Adept Studios GD</td>\n",
              "      <td>Alawar Entertainment</td>\n",
              "      <td>windows;mac</td>\n",
              "      <td>0</td>\n",
              "      <td>Single-player;Steam Cloud</td>\n",
              "      <td>Adventure;Casual;Indie</td>\n",
              "      <td>Indie;Casual;Adventure</td>\n",
              "      <td>0</td>\n",
              "      <td>4</td>\n",
              "      <td>0</td>\n",
              "      <td>0</td>\n",
              "      <td>0</td>\n",
              "      <td>0-20000</td>\n",
              "      <td>5.19</td>\n",
              "    </tr>\n",
              "  </tbody>\n",
              "</table>\n",
              "<p>27075 rows × 18 columns</p>\n",
              "</div>\n",
              "    <div class=\"colab-df-buttons\">\n",
              "\n",
              "  <div class=\"colab-df-container\">\n",
              "    <button class=\"colab-df-convert\" onclick=\"convertToInteractive('df-7695830e-965b-4366-8250-905b3fa588c0')\"\n",
              "            title=\"Convert this dataframe to an interactive table.\"\n",
              "            style=\"display:none;\">\n",
              "\n",
              "  <svg xmlns=\"http://www.w3.org/2000/svg\" height=\"24px\" viewBox=\"0 -960 960 960\">\n",
              "    <path d=\"M120-120v-720h720v720H120Zm60-500h600v-160H180v160Zm220 220h160v-160H400v160Zm0 220h160v-160H400v160ZM180-400h160v-160H180v160Zm440 0h160v-160H620v160ZM180-180h160v-160H180v160Zm440 0h160v-160H620v160Z\"/>\n",
              "  </svg>\n",
              "    </button>\n",
              "\n",
              "  <style>\n",
              "    .colab-df-container {\n",
              "      display:flex;\n",
              "      gap: 12px;\n",
              "    }\n",
              "\n",
              "    .colab-df-convert {\n",
              "      background-color: #E8F0FE;\n",
              "      border: none;\n",
              "      border-radius: 50%;\n",
              "      cursor: pointer;\n",
              "      display: none;\n",
              "      fill: #1967D2;\n",
              "      height: 32px;\n",
              "      padding: 0 0 0 0;\n",
              "      width: 32px;\n",
              "    }\n",
              "\n",
              "    .colab-df-convert:hover {\n",
              "      background-color: #E2EBFA;\n",
              "      box-shadow: 0px 1px 2px rgba(60, 64, 67, 0.3), 0px 1px 3px 1px rgba(60, 64, 67, 0.15);\n",
              "      fill: #174EA6;\n",
              "    }\n",
              "\n",
              "    .colab-df-buttons div {\n",
              "      margin-bottom: 4px;\n",
              "    }\n",
              "\n",
              "    [theme=dark] .colab-df-convert {\n",
              "      background-color: #3B4455;\n",
              "      fill: #D2E3FC;\n",
              "    }\n",
              "\n",
              "    [theme=dark] .colab-df-convert:hover {\n",
              "      background-color: #434B5C;\n",
              "      box-shadow: 0px 1px 3px 1px rgba(0, 0, 0, 0.15);\n",
              "      filter: drop-shadow(0px 1px 2px rgba(0, 0, 0, 0.3));\n",
              "      fill: #FFFFFF;\n",
              "    }\n",
              "  </style>\n",
              "\n",
              "    <script>\n",
              "      const buttonEl =\n",
              "        document.querySelector('#df-7695830e-965b-4366-8250-905b3fa588c0 button.colab-df-convert');\n",
              "      buttonEl.style.display =\n",
              "        google.colab.kernel.accessAllowed ? 'block' : 'none';\n",
              "\n",
              "      async function convertToInteractive(key) {\n",
              "        const element = document.querySelector('#df-7695830e-965b-4366-8250-905b3fa588c0');\n",
              "        const dataTable =\n",
              "          await google.colab.kernel.invokeFunction('convertToInteractive',\n",
              "                                                    [key], {});\n",
              "        if (!dataTable) return;\n",
              "\n",
              "        const docLinkHtml = 'Like what you see? Visit the ' +\n",
              "          '<a target=\"_blank\" href=https://colab.research.google.com/notebooks/data_table.ipynb>data table notebook</a>'\n",
              "          + ' to learn more about interactive tables.';\n",
              "        element.innerHTML = '';\n",
              "        dataTable['output_type'] = 'display_data';\n",
              "        await google.colab.output.renderOutput(dataTable, element);\n",
              "        const docLink = document.createElement('div');\n",
              "        docLink.innerHTML = docLinkHtml;\n",
              "        element.appendChild(docLink);\n",
              "      }\n",
              "    </script>\n",
              "  </div>\n",
              "\n",
              "\n",
              "<div id=\"df-a109e8e4-b6bc-453e-8194-b9f7ee76747b\">\n",
              "  <button class=\"colab-df-quickchart\" onclick=\"quickchart('df-a109e8e4-b6bc-453e-8194-b9f7ee76747b')\"\n",
              "            title=\"Suggest charts\"\n",
              "            style=\"display:none;\">\n",
              "\n",
              "<svg xmlns=\"http://www.w3.org/2000/svg\" height=\"24px\"viewBox=\"0 0 24 24\"\n",
              "     width=\"24px\">\n",
              "    <g>\n",
              "        <path d=\"M19 3H5c-1.1 0-2 .9-2 2v14c0 1.1.9 2 2 2h14c1.1 0 2-.9 2-2V5c0-1.1-.9-2-2-2zM9 17H7v-7h2v7zm4 0h-2V7h2v10zm4 0h-2v-4h2v4z\"/>\n",
              "    </g>\n",
              "</svg>\n",
              "  </button>\n",
              "\n",
              "<style>\n",
              "  .colab-df-quickchart {\n",
              "      --bg-color: #E8F0FE;\n",
              "      --fill-color: #1967D2;\n",
              "      --hover-bg-color: #E2EBFA;\n",
              "      --hover-fill-color: #174EA6;\n",
              "      --disabled-fill-color: #AAA;\n",
              "      --disabled-bg-color: #DDD;\n",
              "  }\n",
              "\n",
              "  [theme=dark] .colab-df-quickchart {\n",
              "      --bg-color: #3B4455;\n",
              "      --fill-color: #D2E3FC;\n",
              "      --hover-bg-color: #434B5C;\n",
              "      --hover-fill-color: #FFFFFF;\n",
              "      --disabled-bg-color: #3B4455;\n",
              "      --disabled-fill-color: #666;\n",
              "  }\n",
              "\n",
              "  .colab-df-quickchart {\n",
              "    background-color: var(--bg-color);\n",
              "    border: none;\n",
              "    border-radius: 50%;\n",
              "    cursor: pointer;\n",
              "    display: none;\n",
              "    fill: var(--fill-color);\n",
              "    height: 32px;\n",
              "    padding: 0;\n",
              "    width: 32px;\n",
              "  }\n",
              "\n",
              "  .colab-df-quickchart:hover {\n",
              "    background-color: var(--hover-bg-color);\n",
              "    box-shadow: 0 1px 2px rgba(60, 64, 67, 0.3), 0 1px 3px 1px rgba(60, 64, 67, 0.15);\n",
              "    fill: var(--button-hover-fill-color);\n",
              "  }\n",
              "\n",
              "  .colab-df-quickchart-complete:disabled,\n",
              "  .colab-df-quickchart-complete:disabled:hover {\n",
              "    background-color: var(--disabled-bg-color);\n",
              "    fill: var(--disabled-fill-color);\n",
              "    box-shadow: none;\n",
              "  }\n",
              "\n",
              "  .colab-df-spinner {\n",
              "    border: 2px solid var(--fill-color);\n",
              "    border-color: transparent;\n",
              "    border-bottom-color: var(--fill-color);\n",
              "    animation:\n",
              "      spin 1s steps(1) infinite;\n",
              "  }\n",
              "\n",
              "  @keyframes spin {\n",
              "    0% {\n",
              "      border-color: transparent;\n",
              "      border-bottom-color: var(--fill-color);\n",
              "      border-left-color: var(--fill-color);\n",
              "    }\n",
              "    20% {\n",
              "      border-color: transparent;\n",
              "      border-left-color: var(--fill-color);\n",
              "      border-top-color: var(--fill-color);\n",
              "    }\n",
              "    30% {\n",
              "      border-color: transparent;\n",
              "      border-left-color: var(--fill-color);\n",
              "      border-top-color: var(--fill-color);\n",
              "      border-right-color: var(--fill-color);\n",
              "    }\n",
              "    40% {\n",
              "      border-color: transparent;\n",
              "      border-right-color: var(--fill-color);\n",
              "      border-top-color: var(--fill-color);\n",
              "    }\n",
              "    60% {\n",
              "      border-color: transparent;\n",
              "      border-right-color: var(--fill-color);\n",
              "    }\n",
              "    80% {\n",
              "      border-color: transparent;\n",
              "      border-right-color: var(--fill-color);\n",
              "      border-bottom-color: var(--fill-color);\n",
              "    }\n",
              "    90% {\n",
              "      border-color: transparent;\n",
              "      border-bottom-color: var(--fill-color);\n",
              "    }\n",
              "  }\n",
              "</style>\n",
              "\n",
              "  <script>\n",
              "    async function quickchart(key) {\n",
              "      const quickchartButtonEl =\n",
              "        document.querySelector('#' + key + ' button');\n",
              "      quickchartButtonEl.disabled = true;  // To prevent multiple clicks.\n",
              "      quickchartButtonEl.classList.add('colab-df-spinner');\n",
              "      try {\n",
              "        const charts = await google.colab.kernel.invokeFunction(\n",
              "            'suggestCharts', [key], {});\n",
              "      } catch (error) {\n",
              "        console.error('Error during call to suggestCharts:', error);\n",
              "      }\n",
              "      quickchartButtonEl.classList.remove('colab-df-spinner');\n",
              "      quickchartButtonEl.classList.add('colab-df-quickchart-complete');\n",
              "    }\n",
              "    (() => {\n",
              "      let quickchartButtonEl =\n",
              "        document.querySelector('#df-a109e8e4-b6bc-453e-8194-b9f7ee76747b button');\n",
              "      quickchartButtonEl.style.display =\n",
              "        google.colab.kernel.accessAllowed ? 'block' : 'none';\n",
              "    })();\n",
              "  </script>\n",
              "</div>\n",
              "\n",
              "  <div id=\"id_a6329218-e041-4fbe-987a-7ed55bbe7d8e\">\n",
              "    <style>\n",
              "      .colab-df-generate {\n",
              "        background-color: #E8F0FE;\n",
              "        border: none;\n",
              "        border-radius: 50%;\n",
              "        cursor: pointer;\n",
              "        display: none;\n",
              "        fill: #1967D2;\n",
              "        height: 32px;\n",
              "        padding: 0 0 0 0;\n",
              "        width: 32px;\n",
              "      }\n",
              "\n",
              "      .colab-df-generate:hover {\n",
              "        background-color: #E2EBFA;\n",
              "        box-shadow: 0px 1px 2px rgba(60, 64, 67, 0.3), 0px 1px 3px 1px rgba(60, 64, 67, 0.15);\n",
              "        fill: #174EA6;\n",
              "      }\n",
              "\n",
              "      [theme=dark] .colab-df-generate {\n",
              "        background-color: #3B4455;\n",
              "        fill: #D2E3FC;\n",
              "      }\n",
              "\n",
              "      [theme=dark] .colab-df-generate:hover {\n",
              "        background-color: #434B5C;\n",
              "        box-shadow: 0px 1px 3px 1px rgba(0, 0, 0, 0.15);\n",
              "        filter: drop-shadow(0px 1px 2px rgba(0, 0, 0, 0.3));\n",
              "        fill: #FFFFFF;\n",
              "      }\n",
              "    </style>\n",
              "    <button class=\"colab-df-generate\" onclick=\"generateWithVariable('steam_data')\"\n",
              "            title=\"Generate code using this dataframe.\"\n",
              "            style=\"display:none;\">\n",
              "\n",
              "  <svg xmlns=\"http://www.w3.org/2000/svg\" height=\"24px\"viewBox=\"0 0 24 24\"\n",
              "       width=\"24px\">\n",
              "    <path d=\"M7,19H8.4L18.45,9,17,7.55,7,17.6ZM5,21V16.75L18.45,3.32a2,2,0,0,1,2.83,0l1.4,1.43a1.91,1.91,0,0,1,.58,1.4,1.91,1.91,0,0,1-.58,1.4L9.25,21ZM18.45,9,17,7.55Zm-12,3A5.31,5.31,0,0,0,4.9,8.1,5.31,5.31,0,0,0,1,6.5,5.31,5.31,0,0,0,4.9,4.9,5.31,5.31,0,0,0,6.5,1,5.31,5.31,0,0,0,8.1,4.9,5.31,5.31,0,0,0,12,6.5,5.46,5.46,0,0,0,6.5,12Z\"/>\n",
              "  </svg>\n",
              "    </button>\n",
              "    <script>\n",
              "      (() => {\n",
              "      const buttonEl =\n",
              "        document.querySelector('#id_a6329218-e041-4fbe-987a-7ed55bbe7d8e button.colab-df-generate');\n",
              "      buttonEl.style.display =\n",
              "        google.colab.kernel.accessAllowed ? 'block' : 'none';\n",
              "\n",
              "      buttonEl.onclick = () => {\n",
              "        google.colab.notebook.generateWithVariable('steam_data');\n",
              "      }\n",
              "      })();\n",
              "    </script>\n",
              "  </div>\n",
              "\n",
              "    </div>\n",
              "  </div>\n"
            ],
            "application/vnd.google.colaboratory.intrinsic+json": {
              "type": "dataframe",
              "variable_name": "steam_data",
              "summary": "{\n  \"name\": \"steam_data\",\n  \"rows\": 27075,\n  \"fields\": [\n    {\n      \"column\": \"appid\",\n      \"properties\": {\n        \"dtype\": \"number\",\n        \"std\": 250894,\n        \"min\": 10,\n        \"max\": 1069460,\n        \"num_unique_values\": 27075,\n        \"samples\": [\n          514520,\n          1012710,\n          279260\n        ],\n        \"semantic_type\": \"\",\n        \"description\": \"\"\n      }\n    },\n    {\n      \"column\": \"name\",\n      \"properties\": {\n        \"dtype\": \"string\",\n        \"num_unique_values\": 27033,\n        \"samples\": [\n          \"A Legionary's Life\",\n          \"Road Doom\",\n          \"Martha Madison: Simple Machines Volume 1\"\n        ],\n        \"semantic_type\": \"\",\n        \"description\": \"\"\n      }\n    },\n    {\n      \"column\": \"release_date\",\n      \"properties\": {\n        \"dtype\": \"object\",\n        \"num_unique_values\": 2619,\n        \"samples\": [\n          \"2017-11-30\",\n          \"2009-07-01\",\n          \"2015-07-09\"\n        ],\n        \"semantic_type\": \"\",\n        \"description\": \"\"\n      }\n    },\n    {\n      \"column\": \"english\",\n      \"properties\": {\n        \"dtype\": \"number\",\n        \"std\": 0,\n        \"min\": 0,\n        \"max\": 1,\n        \"num_unique_values\": 2,\n        \"samples\": [\n          0,\n          1\n        ],\n        \"semantic_type\": \"\",\n        \"description\": \"\"\n      }\n    },\n    {\n      \"column\": \"developer\",\n      \"properties\": {\n        \"dtype\": \"string\",\n        \"num_unique_values\": 17112,\n        \"samples\": [\n          \"Titan Studio\",\n          \"Startreming\"\n        ],\n        \"semantic_type\": \"\",\n        \"description\": \"\"\n      }\n    },\n    {\n      \"column\": \"publisher\",\n      \"properties\": {\n        \"dtype\": \"string\",\n        \"num_unique_values\": 14353,\n        \"samples\": [\n          \"Madowl Games\",\n          \"FunLimit\"\n        ],\n        \"semantic_type\": \"\",\n        \"description\": \"\"\n      }\n    },\n    {\n      \"column\": \"platforms\",\n      \"properties\": {\n        \"dtype\": \"category\",\n        \"num_unique_values\": 7,\n        \"samples\": [\n          \"windows;mac;linux\",\n          \"windows;mac\"\n        ],\n        \"semantic_type\": \"\",\n        \"description\": \"\"\n      }\n    },\n    {\n      \"column\": \"required_age\",\n      \"properties\": {\n        \"dtype\": \"number\",\n        \"std\": 2,\n        \"min\": 0,\n        \"max\": 18,\n        \"num_unique_values\": 6,\n        \"samples\": [\n          0,\n          18\n        ],\n        \"semantic_type\": \"\",\n        \"description\": \"\"\n      }\n    },\n    {\n      \"column\": \"categories\",\n      \"properties\": {\n        \"dtype\": \"category\",\n        \"num_unique_values\": 3333,\n        \"samples\": [\n          \"Single-player;Multi-player;Steam Achievements;Full controller support;Steam Cloud\",\n          \"Single-player;Local Multi-Player;Local Co-op;Steam Achievements;Steam Cloud\"\n        ],\n        \"semantic_type\": \"\",\n        \"description\": \"\"\n      }\n    },\n    {\n      \"column\": \"genres\",\n      \"properties\": {\n        \"dtype\": \"category\",\n        \"num_unique_values\": 1552,\n        \"samples\": [\n          \"Action;Adventure;Free to Play;Indie;Strategy\",\n          \"Action;Casual;Free to Play;Massively Multiplayer\"\n        ],\n        \"semantic_type\": \"\",\n        \"description\": \"\"\n      }\n    },\n    {\n      \"column\": \"steamspy_tags\",\n      \"properties\": {\n        \"dtype\": \"category\",\n        \"num_unique_values\": 6423,\n        \"samples\": [\n          \"Action;Platformer;Remake\",\n          \"Visual Novel;RPG;Indie\"\n        ],\n        \"semantic_type\": \"\",\n        \"description\": \"\"\n      }\n    },\n    {\n      \"column\": \"achievements\",\n      \"properties\": {\n        \"dtype\": \"number\",\n        \"std\": 352,\n        \"min\": 0,\n        \"max\": 9821,\n        \"num_unique_values\": 410,\n        \"samples\": [\n          102,\n          295\n        ],\n        \"semantic_type\": \"\",\n        \"description\": \"\"\n      }\n    },\n    {\n      \"column\": \"positive_ratings\",\n      \"properties\": {\n        \"dtype\": \"number\",\n        \"std\": 18988,\n        \"min\": 0,\n        \"max\": 2644404,\n        \"num_unique_values\": 2800,\n        \"samples\": [\n          2182,\n          286\n        ],\n        \"semantic_type\": \"\",\n        \"description\": \"\"\n      }\n    },\n    {\n      \"column\": \"negative_ratings\",\n      \"properties\": {\n        \"dtype\": \"number\",\n        \"std\": 4284,\n        \"min\": 0,\n        \"max\": 487076,\n        \"num_unique_values\": 1492,\n        \"samples\": [\n          1117,\n          1059\n        ],\n        \"semantic_type\": \"\",\n        \"description\": \"\"\n      }\n    },\n    {\n      \"column\": \"average_playtime\",\n      \"properties\": {\n        \"dtype\": \"number\",\n        \"std\": 1827,\n        \"min\": 0,\n        \"max\": 190625,\n        \"num_unique_values\": 1345,\n        \"samples\": [\n          141,\n          2990\n        ],\n        \"semantic_type\": \"\",\n        \"description\": \"\"\n      }\n    },\n    {\n      \"column\": \"median_playtime\",\n      \"properties\": {\n        \"dtype\": \"number\",\n        \"std\": 2353,\n        \"min\": 0,\n        \"max\": 190625,\n        \"num_unique_values\": 1312,\n        \"samples\": [\n          869,\n          846\n        ],\n        \"semantic_type\": \"\",\n        \"description\": \"\"\n      }\n    },\n    {\n      \"column\": \"owners\",\n      \"properties\": {\n        \"dtype\": \"category\",\n        \"num_unique_values\": 13,\n        \"samples\": [\n          \"200000-500000\",\n          \"50000-100000\"\n        ],\n        \"semantic_type\": \"\",\n        \"description\": \"\"\n      }\n    },\n    {\n      \"column\": \"price\",\n      \"properties\": {\n        \"dtype\": \"number\",\n        \"std\": 7.874922274392826,\n        \"min\": 0.0,\n        \"max\": 421.99,\n        \"num_unique_values\": 282,\n        \"samples\": [\n          4.65,\n          14.49\n        ],\n        \"semantic_type\": \"\",\n        \"description\": \"\"\n      }\n    }\n  ]\n}"
            }
          },
          "metadata": {}
        }
      ]
    },
    {
      "cell_type": "code",
      "source": [
        "import pandas as pd\n",
        "import numpy as np\n",
        "import re\n",
        "import itertools\n",
        "import math"
      ],
      "metadata": {
        "id": "x2M4WuD8lpbl"
      },
      "execution_count": 5,
      "outputs": []
    },
    {
      "cell_type": "code",
      "source": [
        "df = pd.read_csv('/content/drive/MyDrive/Colab Notebooks/BigData & Data Maining Sem 5/UAS/steam.csv')\n"
      ],
      "metadata": {
        "id": "XFo9aPB6mB05"
      },
      "execution_count": 6,
      "outputs": []
    },
    {
      "cell_type": "markdown",
      "source": [
        "# **PRE-PROCESSING**"
      ],
      "metadata": {
        "id": "ydthz5FnEIJY"
      }
    },
    {
      "cell_type": "code",
      "source": [
        "def remove_non_english(df):\n",
        "    df = df[df['english'] == 1].copy()\n",
        "    df = df[~df['name'].str.contains('[^\\u0001-\\u007F]{3,}')]\n",
        "    df = df.drop('english', axis=1)\n",
        "\n",
        "    return df"
      ],
      "metadata": {
        "id": "O6goJJdrjvOt"
      },
      "execution_count": 7,
      "outputs": []
    },
    {
      "cell_type": "code",
      "source": [
        "def calc_rating(row):\n",
        "    pos = row['positive_ratings']\n",
        "    neg = row['negative_ratings']\n",
        "\n",
        "    total_reviews = pos + neg\n",
        "    average = pos / total_reviews\n",
        "    score = average - (average*0.5) * 2**(-math.log10(total_reviews + 1))\n",
        "\n",
        "    return score * 100"
      ],
      "metadata": {
        "id": "aEY7gr_YlnVc"
      },
      "execution_count": 8,
      "outputs": []
    },
    {
      "cell_type": "code",
      "source": [
        "def get_unique(series):\n",
        "    return set(list(itertools.chain(*series.apply(lambda x: [c for c in x.split(';')]))))\n"
      ],
      "metadata": {
        "id": "Uy6Zq43tlsnv"
      },
      "execution_count": 9,
      "outputs": []
    },
    {
      "cell_type": "code",
      "source": [
        "def process_cat_gen_tag(df):\n",
        "    cat_cols = get_unique(df['categories'])\n",
        "    cat_cols = ['Multi-player', 'Single-player']\n",
        "    for col in sorted(cat_cols):\n",
        "        col_name = re.sub(r'[\\s\\-\\/]', '_', col.lower())\n",
        "        col_name = re.sub(r'[()]', '', col_name)\n",
        "\n",
        "        df[col_name] = df['categories'].apply(lambda x: 1 if col in x.split(';') else 0)\n",
        "    gen_cols = get_unique(df['genres'])\n",
        "    gen_cols = [\n",
        "        'Action', 'Adventure', 'Casual', 'Indie', 'Massively Multiplayer',\n",
        "        'RPG', 'Simulation', 'Sports', 'Strategy'\n",
        "    ]\n",
        "    gen_col_names = []\n",
        "    for col in sorted(gen_cols):\n",
        "        col_name = col.lower().replace('&', 'and').replace(' ', '_')\n",
        "        gen_col_names.append(col_name)\n",
        "\n",
        "        df[col_name] = df['genres'].apply(lambda x: 1 if col in x.split(';') else 0)\n",
        "    gen_sums = df[gen_col_names].sum(axis=1)\n",
        "    df = df[gen_sums > 0].copy()\n",
        "    df = df.drop(['categories', 'steamspy_tags'], axis=1)\n",
        "\n",
        "    return df\n"
      ],
      "metadata": {
        "id": "_aVBWZWYlwq-"
      },
      "execution_count": 10,
      "outputs": []
    },
    {
      "cell_type": "code",
      "source": [
        "def pre_process():\n",
        "\n",
        "    df = pd.read_csv('/content/drive/MyDrive/Colab Notebooks/BigData & Data Maining Sem 5/UAS/steam.csv')\n",
        "\n",
        "    df = remove_non_english(df)\n",
        "\n",
        "    df = df[df['platforms'].str.contains('windows')].drop('platforms', axis=1).copy()\n",
        "\n",
        "    df['owners'] = df['owners'].str.split('-').apply(lambda x: x[0]).astype(int)\n",
        "\n",
        "    df['total_ratings'] = df['positive_ratings'] + df['negative_ratings']\n",
        "    df['rating_ratio'] = df['positive_ratings'] / df['total_ratings']\n",
        "\n",
        "    df['rating'] = df.apply(calc_rating, axis=1)\n",
        "\n",
        "    df['release_date'] = pd.to_datetime(df['release_date'])\n",
        "    df['release_year'] = df['release_date'].apply(lambda x: x.year)\n",
        "\n",
        "    df = process_cat_gen_tag(df)\n",
        "\n",
        "    bins = [0, 10000, 100000, 1000000, 10000000, float('inf')]\n",
        "    labels = [0, 1, 2, 3, 4]  # You can adjust labels as needed\n",
        "    df['owners_encoded'] = pd.cut(df['owners'], bins=bins, labels=labels)\n",
        "\n",
        "    return df\n"
      ],
      "metadata": {
        "id": "A2p1E6phlzQw"
      },
      "execution_count": 11,
      "outputs": []
    },
    {
      "cell_type": "code",
      "source": [
        "data = pre_process()\n",
        "\n",
        "print('Verifikasi tidak ada nilai yang hilang:')\n",
        "print(data.isnull().sum().value_counts())\n",
        "\n",
        "print(data.head())\n"
      ],
      "metadata": {
        "colab": {
          "base_uri": "https://localhost:8080/"
        },
        "id": "lvmxU-o_l3LR",
        "outputId": "5723dbdb-1f85-46a4-8210-5eb06d06be27"
      },
      "execution_count": 12,
      "outputs": [
        {
          "output_type": "stream",
          "name": "stdout",
          "text": [
            "Verifikasi tidak ada nilai yang hilang:\n",
            "0        27\n",
            "1         1\n",
            "14        1\n",
            "17680     1\n",
            "Name: count, dtype: int64\n",
            "   appid                       name release_date         developer publisher  \\\n",
            "0     10             Counter-Strike   2000-11-01             Valve     Valve   \n",
            "1     20      Team Fortress Classic   1999-04-01             Valve     Valve   \n",
            "2     30              Day of Defeat   2003-05-01             Valve     Valve   \n",
            "3     40         Deathmatch Classic   2001-06-01             Valve     Valve   \n",
            "4     50  Half-Life: Opposing Force   1999-11-01  Gearbox Software     Valve   \n",
            "\n",
            "   required_age  genres  achievements  positive_ratings  negative_ratings  \\\n",
            "0             0  Action             0            124534              3339   \n",
            "1             0  Action             0              3318               633   \n",
            "2             0  Action             0              3416               398   \n",
            "3             0  Action             0              1273               267   \n",
            "4             0  Action             0              5250               288   \n",
            "\n",
            "   ...  action  adventure  casual  indie  massively_multiplayer  rpg  \\\n",
            "0  ...       1          0       0      0                      0    0   \n",
            "1  ...       1          0       0      0                      0    0   \n",
            "2  ...       1          0       0      0                      0    0   \n",
            "3  ...       1          0       0      0                      0    0   \n",
            "4  ...       1          0       0      0                      0    0   \n",
            "\n",
            "   simulation  sports  strategy  owners_encoded  \n",
            "0           0       0         0               3  \n",
            "1           0       0         0               3  \n",
            "2           0       0         0               3  \n",
            "3           0       0         0               3  \n",
            "4           0       0         0               3  \n",
            "\n",
            "[5 rows x 30 columns]\n"
          ]
        }
      ]
    },
    {
      "cell_type": "markdown",
      "source": [
        "# **EXPLORATORY DATA ANALYSIS**"
      ],
      "metadata": {
        "id": "KPcPKCUNEpSu"
      }
    },
    {
      "cell_type": "code",
      "source": [
        "import seaborn as sns\n",
        "import matplotlib.pyplot as plt\n",
        "\n",
        "sns.histplot(data['price'], bins=50, kde=True, color='blue')\n",
        "plt.title('Distribusi Harga')\n",
        "plt.xlabel('Price (Normalized)')\n",
        "plt.ylabel('Frequency')\n",
        "plt.show()\n",
        "\n",
        "sns.boxplot(x='owners_encoded', y='price', data=data, palette='coolwarm')\n",
        "plt.title('Harga vs Rentang Pemilik')\n",
        "plt.xlabel('Owners Encoded')\n",
        "plt.ylabel('Price (Normalized)')\n",
        "plt.show()"
      ],
      "metadata": {
        "colab": {
          "base_uri": "https://localhost:8080/",
          "height": 1000
        },
        "id": "VYt2dktIdvcm",
        "outputId": "6d3d9195-f320-4f46-8b19-6cbf54c2c146"
      },
      "execution_count": 13,
      "outputs": [
        {
          "output_type": "display_data",
          "data": {
            "text/plain": [
              "<Figure size 640x480 with 1 Axes>"
            ],
            "image/png": "[encoded data removed]"
          },
          "metadata": {}
        },
        {
          "output_type": "stream",
          "name": "stderr",
          "text": [
            "<ipython-input-13-97ffa77c73d2>:10: FutureWarning: \n",
            "\n",
            "Passing `palette` without assigning `hue` is deprecated and will be removed in v0.14.0. Assign the `x` variable to `hue` and set `legend=False` for the same effect.\n",
            "\n",
            "  sns.boxplot(x='owners_encoded', y='price', data=data, palette='coolwarm')\n"
          ]
        },
        {
          "output_type": "display_data",
          "data": {
            "text/plain": [
              "<Figure size 640x480 with 1 Axes>"
            ],
            "image/png": "[encoded data removed]"
          },
          "metadata": {}
        }
      ]
    },
    {
      "cell_type": "code",
      "source": [
        "sns.countplot(x='owners_encoded', data=data, palette='viridis') # Use 'data' instead of 'steam_data'\n",
        "plt.title('Distribusi Rentang Jumlah Pemilik')\n",
        "plt.xlabel('Owners Encoded')\n",
        "plt.ylabel('Count')\n",
        "plt.xticks(rotation=45)\n",
        "plt.show()"
      ],
      "metadata": {
        "colab": {
          "base_uri": "https://localhost:8080/",
          "height": 561
        },
        "id": "eMwW6BC7eWmT",
        "outputId": "6c0506b5-c98b-4470-8bf3-ad67c1457534"
      },
      "execution_count": 14,
      "outputs": [
        {
          "output_type": "stream",
          "name": "stderr",
          "text": [
            "<ipython-input-14-728b2295751f>:1: FutureWarning: \n",
            "\n",
            "Passing `palette` without assigning `hue` is deprecated and will be removed in v0.14.0. Assign the `x` variable to `hue` and set `legend=False` for the same effect.\n",
            "\n",
            "  sns.countplot(x='owners_encoded', data=data, palette='viridis') # Use 'data' instead of 'steam_data'\n"
          ]
        },
        {
          "output_type": "display_data",
          "data": {
            "text/plain": [
              "<Figure size 640x480 with 1 Axes>"
            ],
            "image/png": "[encoded data removed]"
          },
          "metadata": {}
        }
      ]
    },
    {
      "cell_type": "code",
      "source": [
        "sns.boxplot(x='owners_encoded', y='price', data=data, palette='coolwarm')\n",
        "plt.title('Harga vs Rentang Jumlah Pemilik')\n",
        "plt.xlabel('Owners Encoded')\n",
        "plt.ylabel('Price')\n",
        "plt.xticks(rotation=45)\n",
        "plt.show()"
      ],
      "metadata": {
        "colab": {
          "base_uri": "https://localhost:8080/",
          "height": 561
        },
        "id": "aU0mwXiOeaGH",
        "outputId": "16df1953-a808-42c7-c8e0-1dde9159b998"
      },
      "execution_count": 15,
      "outputs": [
        {
          "output_type": "stream",
          "name": "stderr",
          "text": [
            "<ipython-input-15-5e32bd4aba2f>:1: FutureWarning: \n",
            "\n",
            "Passing `palette` without assigning `hue` is deprecated and will be removed in v0.14.0. Assign the `x` variable to `hue` and set `legend=False` for the same effect.\n",
            "\n",
            "  sns.boxplot(x='owners_encoded', y='price', data=data, palette='coolwarm')\n"
          ]
        },
        {
          "output_type": "display_data",
          "data": {
            "text/plain": [
              "<Figure size 640x480 with 1 Axes>"
            ],
            "image/png": "[encoded data removed]"
          },
          "metadata": {}
        }
      ]
    },
    {
      "cell_type": "code",
      "source": [
        "sns.scatterplot(x='price', y='average_playtime', data=data, hue='owners_encoded', palette='deep')\n",
        "plt.title('Harga vs Rata-rata Waktu Bermain')\n",
        "plt.xlabel('Price')\n",
        "plt.ylabel('Average Playtime')\n",
        "plt.show()"
      ],
      "metadata": {
        "colab": {
          "base_uri": "https://localhost:8080/",
          "height": 472
        },
        "id": "9NVD8PuIecR1",
        "outputId": "8f5f81fc-f034-4e76-e0b0-26c87bb52a67"
      },
      "execution_count": 16,
      "outputs": [
        {
          "output_type": "display_data",
          "data": {
            "text/plain": [
              "<Figure size 640x480 with 1 Axes>"
            ],
            "image/png": "[encoded data removed]"
          },
          "metadata": {}
        }
      ]
    },
    {
      "cell_type": "markdown",
      "source": [
        "# **SELEKSI FITUR**"
      ],
      "metadata": {
        "id": "V6kl3JBwEy22"
      }
    },
    {
      "cell_type": "code",
      "source": [
        "from sklearn.model_selection import train_test_split\n",
        "\n",
        "X = data[['price', 'average_playtime', 'median_playtime']]\n",
        "y = data['owners_encoded']\n",
        "X_train, X_test, y_train, y_test = train_test_split(X, y, test_size=0.3, random_state=42)\n",
        "\n",
        "print(\"Shape Data:\")\n",
        "print(f\"Train: {X_train.shape}, Test: {X_test.shape}\")"
      ],
      "metadata": {
        "colab": {
          "base_uri": "https://localhost:8080/"
        },
        "id": "EKcqHSH1dzks",
        "outputId": "5bc489f4-1bd3-4322-b13e-e9fa59b8a07e"
      },
      "execution_count": 17,
      "outputs": [
        {
          "output_type": "stream",
          "name": "stdout",
          "text": [
            "Shape Data:\n",
            "Train: (18102, 3), Test: (7758, 3)\n"
          ]
        }
      ]
    },
    {
      "cell_type": "code",
      "source": [],
      "metadata": {
        "id": "w6X6zvH9QxSr"
      },
      "execution_count": 17,
      "outputs": []
    },
    {
      "cell_type": "markdown",
      "source": [
        "# **MODELING**"
      ],
      "metadata": {
        "id": "3tbPFs9XE6JS"
      }
    },
    {
      "cell_type": "code",
      "source": [
        "from sklearn.ensemble import RandomForestClassifier\n",
        "from sklearn.model_selection import RandomizedSearchCV, train_test_split\n",
        "import numpy as np\n",
        "\n",
        "X = data[['price', 'average_playtime', 'median_playtime']]  # Use 'data' instead of 'steam_data'\n",
        "y = data['owners_encoded']  # Use 'data' instead of 'steam_data'\n",
        "\n",
        "X_train, X_test, y_train, y_test = train_test_split(X, y, test_size=0.3, random_state=42)\n",
        "\n",
        "train_data = pd.concat([X_train, y_train], axis=1)  # Combine X_train and y_train\n",
        "train_data = train_data.dropna()  # Drop rows with NaN values\n",
        "X_train = train_data.drop(columns=['owners_encoded'])  # Separate X_train\n",
        "y_train = train_data['owners_encoded']  # Separate y_train\n",
        "\n",
        "print(\"Shape Data:\")\n",
        "print(f\"Train: {X_train.shape}, Test: {X_test.shape}\")\n",
        "\n",
        "param_dist = {\n",
        "    'n_estimators': [100, 200, 300, 400],\n",
        "    'max_depth': [None, 10, 20, 30],\n",
        "    'min_samples_split': [2, 5, 10],\n",
        "    'min_samples_leaf': [1, 2, 4]\n",
        "}\n",
        "\n",
        "rf = RandomForestClassifier(random_state=42)\n",
        "random_search = RandomizedSearchCV(estimator=rf, param_distributions=param_dist, n_iter=30, cv=3,\n",
        "                                   n_jobs=-1, scoring='accuracy', random_state=42)\n",
        "random_search.fit(X_train, y_train)\n",
        "\n",
        "best_rf = random_search.best_estimator_\n",
        "print(\"Best Parameters:\", random_search.best_params_)"
      ],
      "metadata": {
        "colab": {
          "base_uri": "https://localhost:8080/"
        },
        "id": "l0mk51E_d1uV",
        "outputId": "fadac4d2-c724-45bc-aa2b-9e2f24c318f1"
      },
      "execution_count": 18,
      "outputs": [
        {
          "output_type": "stream",
          "name": "stdout",
          "text": [
            "Shape Data:\n",
            "Train: (5736, 3), Test: (7758, 3)\n",
            "Best Parameters: {'n_estimators': 400, 'min_samples_split': 5, 'min_samples_leaf': 2, 'max_depth': 10}\n"
          ]
        }
      ]
    },
    {
      "cell_type": "markdown",
      "source": [
        "# **EVALUASI MODEL**"
      ],
      "metadata": {
        "id": "OfsOFkBaE8jm"
      }
    },
    {
      "cell_type": "code",
      "source": [
        "from sklearn.metrics import classification_report, accuracy_score, confusion_matrix\n",
        "\n",
        "test_data = pd.concat([X_test, y_test], axis=1)  # Combine X_test and y_test\n",
        "test_data = test_data.dropna()  # Drop rows with NaN values\n",
        "X_test = test_data.drop(columns=['owners_encoded'])  # Separate X_test\n",
        "y_test = test_data['owners_encoded']  # Separate y_test\n",
        "\n",
        "y_pred = best_rf.predict(X_test) # Use the best model for prediction\n",
        "\n",
        "print(\"Classification Report:\\n\", classification_report(y_test, y_pred))\n",
        "\n",
        "accuracy = accuracy_score(y_test, y_pred)\n",
        "print(\"\\nAccuracy Score:\", accuracy)\n",
        "\n",
        "conf_matrix = confusion_matrix(y_test, y_pred)\n",
        "\n",
        "sns.heatmap(conf_matrix, annot=True, fmt='d', cmap='Blues')\n",
        "plt.title('Confusion Matrix')\n",
        "plt.xlabel('Predicted')\n",
        "plt.ylabel('True')\n",
        "plt.show()"
      ],
      "metadata": {
        "colab": {
          "base_uri": "https://localhost:8080/",
          "height": 839
        },
        "id": "oGLQyvoTd5Qd",
        "outputId": "7be3df60-18aa-4f99-9489-01ccd85fb07d"
      },
      "execution_count": 19,
      "outputs": [
        {
          "output_type": "stream",
          "name": "stdout",
          "text": [
            "Classification Report:\n",
            "               precision    recall  f1-score   support\n",
            "\n",
            "           1       0.81      0.93      0.87      1762\n",
            "           2       0.56      0.35      0.43       606\n",
            "           3       0.53      0.27      0.35        75\n",
            "           4       0.00      0.00      0.00         1\n",
            "\n",
            "    accuracy                           0.77      2444\n",
            "   macro avg       0.48      0.39      0.41      2444\n",
            "weighted avg       0.74      0.77      0.74      2444\n",
            "\n",
            "\n",
            "Accuracy Score: 0.7684124386252046\n"
          ]
        },
        {
          "output_type": "stream",
          "name": "stderr",
          "text": [
            "/usr/local/lib/python3.11/dist-packages/sklearn/metrics/_classification.py:1565: UndefinedMetricWarning: Precision is ill-defined and being set to 0.0 in labels with no predicted samples. Use `zero_division` parameter to control this behavior.\n",
            "  _warn_prf(average, modifier, f\"{metric.capitalize()} is\", len(result))\n",
            "/usr/local/lib/python3.11/dist-packages/sklearn/metrics/_classification.py:1565: UndefinedMetricWarning: Precision is ill-defined and being set to 0.0 in labels with no predicted samples. Use `zero_division` parameter to control this behavior.\n",
            "  _warn_prf(average, modifier, f\"{metric.capitalize()} is\", len(result))\n",
            "/usr/local/lib/python3.11/dist-packages/sklearn/metrics/_classification.py:1565: UndefinedMetricWarning: Precision is ill-defined and being set to 0.0 in labels with no predicted samples. Use `zero_division` parameter to control this behavior.\n",
            "  _warn_prf(average, modifier, f\"{metric.capitalize()} is\", len(result))\n"
          ]
        },
        {
          "output_type": "display_data",
          "data": {
            "text/plain": [
              "<Figure size 640x480 with 2 Axes>"
            ],
            "image/png": "[encoded data removed]"
          },
          "metadata": {}
        }
      ]
    },
    {
      "cell_type": "code",
      "source": [
        "feature_importances = pd.DataFrame({\n",
        "    'Feature': X.columns,\n",
        "    'Importance': best_rf.feature_importances_\n",
        "}).sort_values(by='Importance', ascending=False)\n",
        "\n",
        "sns.barplot(x='Importance', y='Feature', data=feature_importances, palette='muted')\n",
        "plt.title('Feature Importance')\n",
        "plt.xlabel('Importance')\n",
        "plt.ylabel('Feature')\n",
        "plt.show()"
      ],
      "metadata": {
        "colab": {
          "base_uri": "https://localhost:8080/",
          "height": 559
        },
        "id": "GDqbl0H2erto",
        "outputId": "4401096a-1fe5-4bfb-a590-3b6a8899aa11"
      },
      "execution_count": 20,
      "outputs": [
        {
          "output_type": "stream",
          "name": "stderr",
          "text": [
            "<ipython-input-20-385214db076d>:6: FutureWarning: \n",
            "\n",
            "Passing `palette` without assigning `hue` is deprecated and will be removed in v0.14.0. Assign the `y` variable to `hue` and set `legend=False` for the same effect.\n",
            "\n",
            "  sns.barplot(x='Importance', y='Feature', data=feature_importances, palette='muted')\n"
          ]
        },
        {
          "output_type": "display_data",
          "data": {
            "text/plain": [
              "<Figure size 640x480 with 1 Axes>"
            ],
            "image/png": "[encoded data removed]"
          },
          "metadata": {}
        }
      ]
    },
    {
      "cell_type": "code",
      "source": [
        "import joblib\n",
        "joblib.dump(best_rf, 'steam_model.joblib')\n",
        "from google.colab import files\n",
        "files.download('steam_model.joblib')"
      ],
      "metadata": {
        "colab": {
          "base_uri": "https://localhost:8080/",
          "height": 17
        },
        "id": "wkfiAxwkGwmr",
        "outputId": "e44e15ec-530e-4616-fef2-c6e6374380f9"
      },
      "execution_count": 21,
      "outputs": [
        {
          "output_type": "display_data",
          "data": {
            "text/plain": [
              "<IPython.core.display.Javascript object>"
            ],
            "application/javascript": [
              "\n",
              "    async function download(id, filename, size) {\n",
              "      if (!google.colab.kernel.accessAllowed) {\n",
              "        return;\n",
              "      }\n",
              "      const div = document.createElement('div');\n",
              "      const label = document.createElement('label');\n",
              "      label.textContent = `Downloading \"${filename}\": `;\n",
              "      div.appendChild(label);\n",
              "      const progress = document.createElement('progress');\n",
              "      progress.max = size;\n",
              "      div.appendChild(progress);\n",
              "      document.body.appendChild(div);\n",
              "\n",
              "      const buffers = [];\n",
              "      let downloaded = 0;\n",
              "\n",
              "      const channel = await google.colab.kernel.comms.open(id);\n",
              "      // Send a message to notify the kernel that we're ready.\n",
              "      channel.send({})\n",
              "\n",
              "      for await (const message of channel.messages) {\n",
              "        // Send a message to notify the kernel that we're ready.\n",
              "        channel.send({})\n",
              "        if (message.buffers) {\n",
              "          for (const buffer of message.buffers) {\n",
              "            buffers.push(buffer);\n",
              "            downloaded += buffer.byteLength;\n",
              "            progress.value = downloaded;\n",
              "          }\n",
              "        }\n",
              "      }\n",
              "      const blob = new Blob(buffers, {type: 'application/binary'});\n",
              "      const a = document.createElement('a');\n",
              "      a.href = window.URL.createObjectURL(blob);\n",
              "      a.download = filename;\n",
              "      div.appendChild(a);\n",
              "      a.click();\n",
              "      div.remove();\n",
              "    }\n",
              "  "
            ]
          },
          "metadata": {}
        },
        {
          "output_type": "display_data",
          "data": {
            "text/plain": [
              "<IPython.core.display.Javascript object>"
            ],
            "application/javascript": [
              "download(\"download_37070416-4613-47be-b2dc-1fe7931a9c99\", \"steam_model.joblib\", 15057817)"
            ]
          },
          "metadata": {}
        }
      ]
    }
  ]
}